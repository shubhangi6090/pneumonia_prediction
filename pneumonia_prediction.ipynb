Machine learning model using CNN.
